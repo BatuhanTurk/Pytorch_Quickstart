{
 "cells": [
  {
   "cell_type": "code",
   "execution_count": 68,
   "metadata": {},
   "outputs": [],
   "source": [
    "import torch\n",
    "from torch import nn\n",
    "from torch.utils.data import DataLoader\n",
    "from torchvision import datasets\n",
    "from torchvision.transforms import ToTensor"
   ]
  },
  {
   "cell_type": "code",
   "execution_count": 69,
   "metadata": {},
   "outputs": [],
   "source": [
    "trainingData = datasets.FashionMNIST(\n",
    "    root = \"data\",\n",
    "    train = True,\n",
    "    download = True,\n",
    "    transform = ToTensor(),\n",
    "    )\n",
    "testData = datasets.FashionMNIST(\n",
    "    root = \"data\",\n",
    "    train = False,\n",
    "    download = True,\n",
    "    transform = ToTensor(),\n",
    "    )"
   ]
  },
  {
   "cell_type": "code",
   "execution_count": 70,
   "metadata": {},
   "outputs": [
    {
     "name": "stdout",
     "output_type": "stream",
     "text": [
      "torch.Size([64, 1, 28, 28])\n",
      "torch.Size([64])  ,  torch.int64\n"
     ]
    }
   ],
   "source": [
    "batch_size = 64\n",
    "\n",
    "train_dataLoader = DataLoader(trainingData,batch_size = batch_size)\n",
    "test_dataLoader = DataLoader(testData,batch_size = batch_size)\n",
    "\n",
    "for x,y in test_dataLoader:\n",
    "    print(x.shape)\n",
    "    print(y.shape,\" , \",y.dtype)\n",
    "    break"
   ]
  },
  {
   "cell_type": "code",
   "execution_count": 71,
   "metadata": {},
   "outputs": [
    {
     "name": "stdout",
     "output_type": "stream",
     "text": [
      "Using cuda device\n"
     ]
    }
   ],
   "source": [
    "device = \"cuda\" if torch.cuda.is_available() else \"cpu\"\n",
    "print(f\"Using {device} device\")"
   ]
  },
  {
   "cell_type": "code",
   "execution_count": 72,
   "metadata": {},
   "outputs": [
    {
     "name": "stdout",
     "output_type": "stream",
     "text": [
      "NeuralNetwork(\n",
      "  (flatten): Flatten(start_dim=1, end_dim=-1)\n",
      "  (linear_relu_stack): Sequential(\n",
      "    (0): Linear(in_features=784, out_features=512, bias=True)\n",
      "    (1): ReLU()\n",
      "    (2): Linear(in_features=512, out_features=512, bias=True)\n",
      "    (3): ReLU()\n",
      "    (4): Linear(in_features=512, out_features=10, bias=True)\n",
      "  )\n",
      ")\n"
     ]
    }
   ],
   "source": [
    "class NeuralNetwork(nn.Module):\n",
    "    def __init__(self):\n",
    "        super().__init__()\n",
    "        self.flatten = nn.Flatten()\n",
    "        self.linear_relu_stack = nn.Sequential(\n",
    "            nn.Linear(28*28,512),\n",
    "            nn.ReLU(),\n",
    "            nn.Linear(512,512),\n",
    "            nn.ReLU(),\n",
    "            nn.Linear(512,10)\n",
    "        )\n",
    "    def forward(self,x):\n",
    "        x = self.flatten(x)\n",
    "        logits = self.linear_relu_stack(x)\n",
    "        return logits\n",
    "\n",
    "model = NeuralNetwork().to(device)\n",
    "print(model)"
   ]
  },
  {
   "cell_type": "code",
   "execution_count": 73,
   "metadata": {},
   "outputs": [],
   "source": [
    "loss_fn = nn.CrossEntropyLoss()\n",
    "optimizer = torch.optim.SGD(model.parameters(),lr = 1e-3)"
   ]
  },
  {
   "cell_type": "code",
   "execution_count": 74,
   "metadata": {},
   "outputs": [],
   "source": [
    "def train(DataLoader,model,loss_fn,optimizer):\n",
    "    size = len(DataLoader.dataset)\n",
    "    model.train()\n",
    "    for batch ,(x,y) in enumerate(DataLoader):\n",
    "        x,y = x.to(device),y.to(device)\n",
    "        \n",
    "        pred = model(x)\n",
    "        loss = loss_fn(pred,y)\n",
    "        \n",
    "        optimizer.zero_grad()\n",
    "        loss.backward()\n",
    "        optimizer.step()\n",
    "        \n",
    "        if batch % 100 == 0:\n",
    "            loss, current = loss.item(), batch * len(x)\n",
    "            print(f\"loss: {loss:>7f}  [{current:>5d}/{size:>5d}]\")"
   ]
  },
  {
   "cell_type": "code",
   "execution_count": 75,
   "metadata": {},
   "outputs": [],
   "source": [
    "def test(dataloader, model, loss_fn):\n",
    "    size = len(dataloader.dataset)\n",
    "    num_batches = len(dataloader)\n",
    "    model.eval()\n",
    "    test_loss, correct = 0, 0\n",
    "    with torch.no_grad():\n",
    "        for X, y in dataloader:\n",
    "            X, y = X.to(device), y.to(device)\n",
    "            pred = model(X)\n",
    "            test_loss += loss_fn(pred, y).item()\n",
    "            correct += (pred.argmax(1) == y).type(torch.float).sum().item()\n",
    "    test_loss /= num_batches\n",
    "    correct /= size\n",
    "    print(f\"Test Error: \\n Accuracy: {(100*correct):>0.1f}%, Avg loss: {test_loss:>8f} \\n\")"
   ]
  },
  {
   "cell_type": "code",
   "execution_count": 76,
   "metadata": {},
   "outputs": [
    {
     "name": "stdout",
     "output_type": "stream",
     "text": [
      "Epoch 1\n",
      "-------------------------------\n",
      "loss: 2.306854  [    0/60000]\n",
      "loss: 2.292969  [ 6400/60000]\n",
      "loss: 2.275049  [12800/60000]\n",
      "loss: 2.261025  [19200/60000]\n",
      "loss: 2.253226  [25600/60000]\n",
      "loss: 2.216004  [32000/60000]\n",
      "loss: 2.222739  [38400/60000]\n",
      "loss: 2.184742  [44800/60000]\n",
      "loss: 2.191636  [51200/60000]\n",
      "loss: 2.147508  [57600/60000]\n",
      "Test Error: \n",
      " Accuracy: 43.6%, Avg loss: 2.148400 \n",
      "\n",
      "Epoch 2\n",
      "-------------------------------\n",
      "loss: 2.168214  [    0/60000]\n",
      "loss: 2.150800  [ 6400/60000]\n",
      "loss: 2.094244  [12800/60000]\n",
      "loss: 2.104933  [19200/60000]\n",
      "loss: 2.049285  [25600/60000]\n",
      "loss: 1.981951  [32000/60000]\n",
      "loss: 2.013394  [38400/60000]\n",
      "loss: 1.926859  [44800/60000]\n",
      "loss: 1.945045  [51200/60000]\n",
      "loss: 1.857068  [57600/60000]\n",
      "Test Error: \n",
      " Accuracy: 54.3%, Avg loss: 1.863637 \n",
      "\n",
      "Epoch 3\n",
      "-------------------------------\n",
      "loss: 1.906063  [    0/60000]\n",
      "loss: 1.865096  [ 6400/60000]\n",
      "loss: 1.751563  [12800/60000]\n",
      "loss: 1.792614  [19200/60000]\n",
      "loss: 1.675360  [25600/60000]\n",
      "loss: 1.627421  [32000/60000]\n",
      "loss: 1.655706  [38400/60000]\n",
      "loss: 1.555343  [44800/60000]\n",
      "loss: 1.588096  [51200/60000]\n",
      "loss: 1.479925  [57600/60000]\n",
      "Test Error: \n",
      " Accuracy: 62.4%, Avg loss: 1.501654 \n",
      "\n",
      "Epoch 4\n",
      "-------------------------------\n",
      "loss: 1.574103  [    0/60000]\n",
      "loss: 1.535327  [ 6400/60000]\n",
      "loss: 1.389311  [12800/60000]\n",
      "loss: 1.460366  [19200/60000]\n",
      "loss: 1.341103  [25600/60000]\n",
      "loss: 1.337355  [32000/60000]\n",
      "loss: 1.356638  [38400/60000]\n",
      "loss: 1.280562  [44800/60000]\n",
      "loss: 1.315517  [51200/60000]\n",
      "loss: 1.221811  [57600/60000]\n",
      "Test Error: \n",
      " Accuracy: 64.4%, Avg loss: 1.244128 \n",
      "\n",
      "Epoch 5\n",
      "-------------------------------\n",
      "loss: 1.321903  [    0/60000]\n",
      "loss: 1.304475  [ 6400/60000]\n",
      "loss: 1.138985  [12800/60000]\n",
      "loss: 1.246263  [19200/60000]\n",
      "loss: 1.120956  [25600/60000]\n",
      "loss: 1.143630  [32000/60000]\n",
      "loss: 1.171591  [38400/60000]\n",
      "loss: 1.105935  [44800/60000]\n",
      "loss: 1.145010  [51200/60000]\n",
      "loss: 1.066864  [57600/60000]\n",
      "Test Error: \n",
      " Accuracy: 65.4%, Avg loss: 1.082353 \n",
      "\n",
      "Done!\n"
     ]
    }
   ],
   "source": [
    "epochs = 5\n",
    "for t in range(epochs):\n",
    "    print(f\"Epoch {t+1}\\n-------------------------------\")\n",
    "    train(train_dataLoader, model, loss_fn, optimizer)\n",
    "    test(test_dataLoader, model, loss_fn)\n",
    "print(\"Done!\")"
   ]
  },
  {
   "cell_type": "code",
   "execution_count": 77,
   "metadata": {},
   "outputs": [
    {
     "name": "stdout",
     "output_type": "stream",
     "text": [
      "Saved PyTorch Model State to model.pth\n"
     ]
    }
   ],
   "source": [
    "torch.save(model.state_dict(), \"model.pth\")\n",
    "print(\"Saved PyTorch Model State to model.pth\")"
   ]
  },
  {
   "cell_type": "code",
   "execution_count": 78,
   "metadata": {},
   "outputs": [
    {
     "data": {
      "text/plain": [
       "<All keys matched successfully>"
      ]
     },
     "execution_count": 78,
     "metadata": {},
     "output_type": "execute_result"
    }
   ],
   "source": [
    "model = NeuralNetwork()\n",
    "model.load_state_dict(torch.load(\"model.pth\"))"
   ]
  },
  {
   "cell_type": "code",
   "execution_count": 80,
   "metadata": {},
   "outputs": [
    {
     "name": "stdout",
     "output_type": "stream",
     "text": [
      "Predicted: \"Ankle boot\", Actual: \"Ankle boot\"\n"
     ]
    }
   ],
   "source": [
    "classes = [\n",
    "    \"T-shirt/top\",\n",
    "    \"Trouser\",\n",
    "    \"Pullover\",\n",
    "    \"Dress\",\n",
    "    \"Coat\",\n",
    "    \"Sandal\",\n",
    "    \"Shirt\",\n",
    "    \"Sneaker\",\n",
    "    \"Bag\",\n",
    "    \"Ankle boot\",\n",
    "]\n",
    "\n",
    "model.eval()\n",
    "x, y = testData[0][0], testData[0][1]\n",
    "with torch.no_grad():\n",
    "    pred = model(x)\n",
    "    predicted, actual = classes[pred[0].argmax(0)], classes[y]\n",
    "    print(f'Predicted: \"{predicted}\", Actual: \"{actual}\"')"
   ]
  },
  {
   "cell_type": "code",
   "execution_count": null,
   "metadata": {},
   "outputs": [],
   "source": []
  }
 ],
 "metadata": {
  "kernelspec": {
   "display_name": "Python 3",
   "language": "python",
   "name": "python3"
  },
  "language_info": {
   "codemirror_mode": {
    "name": "ipython",
    "version": 3
   },
   "file_extension": ".py",
   "mimetype": "text/x-python",
   "name": "python",
   "nbconvert_exporter": "python",
   "pygments_lexer": "ipython3",
   "version": "3.8.10"
  }
 },
 "nbformat": 4,
 "nbformat_minor": 4
}
